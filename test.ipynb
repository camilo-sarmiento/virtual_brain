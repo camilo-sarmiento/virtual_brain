{
 "cells": [
  {
   "cell_type": "code",
   "execution_count": 1,
   "metadata": {},
   "outputs": [],
   "source": [
    "class Queue:\n",
    "    def __init__(self):\n",
    "        self.items = []\n",
    "    \n",
    "    def get_items(self): #Retorna la lista de elementos\n",
    "        return self.items\n",
    "    \n",
    "    def enqueue(self, item):#Inserta un nuevo elemento en la cola de izq to der(->)\n",
    "        self.items.insert(0, item)\n",
    "        \n",
    "    def dequeue(self, item):#Elimina el último elemento\n",
    "        self.items.pop()\n",
    "    \n",
    "    def size(self):\n",
    "        return len(self.items)"
   ]
  },
  {
   "cell_type": "code",
   "execution_count": 5,
   "metadata": {},
   "outputs": [],
   "source": [
    "class Stack:\n",
    "    def __init__(self):\n",
    "        self.items = []\n",
    "\n",
    "    def get_items(self): \n",
    "        return self.items\n",
    "\n",
    "    def push(self, item):\n",
    "        self.items.insert(0, item)\n",
    "    \n",
    "    def pop(self):\n",
    "        self.items.pop(0)\n",
    "    \n",
    "    def size(self):\n",
    "        return self.items\n",
    "        "
   ]
  },
  {
   "cell_type": "code",
   "execution_count": 9,
   "metadata": {},
   "outputs": [
    {
     "name": "stdout",
     "output_type": "stream",
     "text": [
      "[9, 8, 7, 6, 5, 4, 3, 2, 1, 0]\n",
      "[8, 7, 6, 5, 4, 3, 2, 1, 0]\n"
     ]
    }
   ],
   "source": [
    "data = Stack()\n",
    "\n",
    "for i in range(10):\n",
    "    data.push(i)\n",
    "\n",
    "print(data.size())\n",
    "\n",
    "data.pop()\n",
    "print(data.size())"
   ]
  },
  {
   "cell_type": "code",
   "execution_count": 21,
   "metadata": {},
   "outputs": [
    {
     "data": {
      "text/plain": [
       "141.5"
      ]
     },
     "execution_count": 21,
     "metadata": {},
     "output_type": "execute_result"
    }
   ],
   "source": [
    "import math\n",
    "\n",
    "math.sqrt(80433.29)\n",
    "\n",
    "283/2\n"
   ]
  }
 ],
 "metadata": {
  "kernelspec": {
   "display_name": "Python 3.10.8 64-bit (microsoft store)",
   "language": "python",
   "name": "python3"
  },
  "language_info": {
   "codemirror_mode": {
    "name": "ipython",
    "version": 3
   },
   "file_extension": ".py",
   "mimetype": "text/x-python",
   "name": "python",
   "nbconvert_exporter": "python",
   "pygments_lexer": "ipython3",
   "version": "3.10.8"
  },
  "orig_nbformat": 4,
  "vscode": {
   "interpreter": {
    "hash": "ab5e9d24fdf9b45adde059e15c17f452099dc25e84160f68a5d2fca5d50a2d1a"
   }
  }
 },
 "nbformat": 4,
 "nbformat_minor": 2
}
